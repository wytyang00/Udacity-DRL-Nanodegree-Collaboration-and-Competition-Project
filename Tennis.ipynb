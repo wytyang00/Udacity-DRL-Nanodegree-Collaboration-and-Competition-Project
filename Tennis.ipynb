{
 "cells": [
  {
   "cell_type": "markdown",
   "metadata": {},
   "source": [
    "# Collaboration and Competition\n",
    "\n",
    "---\n",
    "\n",
    "Train a pair of agents to play the longest tennis game they can possibly do!\n",
    "\n",
    "<table style=\"margin: auto;\">\n",
    "  <tr>\n",
    "      <td>Trained Agent</td>\n",
    "  </tr>\n",
    "  <tr>\n",
    "    <td><img src=\"files/images/trained_tennis.gif\" align=\"center\"></td>\n",
    "  </tr>\n",
    "</table>"
   ]
  },
  {
   "cell_type": "markdown",
   "metadata": {},
   "source": [
    "---"
   ]
  },
  {
   "cell_type": "markdown",
   "metadata": {},
   "source": [
    "## Table of Contents\n",
    "---\n",
    "* Table of Contents\n",
    "\n",
    "\n",
    "0. [Import Necessary Modules](#0.-Import-Necessary-Modules)\n",
    "1. [Start and Explore the Environment](#1.-Start-and-Explore-the-Environment)\n",
    "    * 1.1. [Start the Environment](#1.1.-Start-the-Environment)\n",
    "    * 1.2. [Examine the State and Action Spaces](#1.2.-Examine-the-State-and-Action-Spaces)\n",
    "    * 1.3. [Take Random Actions in the Environment](#1.3.-Take-Random-Actions-in-the-Environment)\n",
    "2. [It's Your Turn!](#2.-It's-Your-Turn!)\n",
    "    * 1.1. [Tune Your Hyperparameters!](#2.1.-Tune-Your-Hyperparameters!)\n",
    "    * 1.2. [Instantiate Your Agent](#2.2.-Instantiate-Your-Agent)\n",
    "    * 1.3. [Train Your Agent](#2.3.-Train-Your-Agent)\n",
    "    * 1.4. [Plot the Training Scores](#2.4.-Plot-the-Training-Scores)\n",
    "    * 1.5. [Save the Agent](#2.5.-Save-the-Agent)\n",
    "3. [Load & Evaluate the Agent](#3.-Load-&-Evaluate-Your/Pretrained-Agent)\n",
    "    * 1.1. [Load the Agent](#3.1.-Load-the-Agent)\n",
    "    * 1.2. [Watch the Agent!](#3.2.-Watch-the-Agent!)\n",
    "    * 1.3. [More Accurate Evaluation](#3.3.-More-Accurate-Evaluation)\n",
    "4. [Finishing Up](#4.-Finishing-Up)\n",
    "\n",
    "\n",
    "* [Thank You!](##-Thank-you!)"
   ]
  },
  {
   "cell_type": "markdown",
   "metadata": {},
   "source": [
    "---"
   ]
  },
  {
   "cell_type": "markdown",
   "metadata": {},
   "source": [
    "## [0.](#Table-of-Contents) Import Necessary Modules\n",
    "---\n",
    "Just run the next cell to prepare all the modules needed."
   ]
  },
  {
   "cell_type": "code",
   "execution_count": 1,
   "metadata": {
    "ExecuteTime": {
     "end_time": "2019-05-22T06:40:41.039737Z",
     "start_time": "2019-05-22T06:40:36.538214Z"
    }
   },
   "outputs": [],
   "source": [
    "# DO NOT CHANGE THE CODE HERE\n",
    "import random\n",
    "from collections import deque\n",
    "\n",
    "import matplotlib.pyplot as plt\n",
    "%matplotlib inline\n",
    "\n",
    "from unityagents import UnityEnvironment\n",
    "import numpy as np\n",
    "\n",
    "import torch\n",
    "import torch.nn as nn\n",
    "import torch.nn.functional as F\n",
    "import torch.optim as optim\n",
    "\n",
    "from ddpg_agent import Agent\n",
    "from train import ddpg\n",
    "\n",
    "random.seed(0)\n",
    "np.random.seed(0)\n",
    "\n",
    "device = torch.device('cuda:0' if torch.cuda.is_available() else 'cpu')\n",
    "torch.empty(1, device=device);"
   ]
  },
  {
   "cell_type": "markdown",
   "metadata": {},
   "source": [
    "---"
   ]
  },
  {
   "cell_type": "markdown",
   "metadata": {},
   "source": [
    "## [1.](#Table-of-Contents) Start and Explore the Environment\n",
    "---\n",
    "In this section, you will load the environment and explore it with random actions. Exploration is optional, but loading the environment is necessary."
   ]
  },
  {
   "cell_type": "markdown",
   "metadata": {},
   "source": [
    "### [1.1.](#Table-of-Contents) Start the Environment\n",
    "---\n",
    "Next, we will start the environment!  **_Before running the code cell below_**, change the `file_name` parameter to match the location of the Unity environment that you downloaded.\n",
    "\n",
    "- **Mac**: `\"path/to/Tennis.app\"`\n",
    "- **Windows** (x86): `\"path/to/Tennis_Windows_x86/Tennis.exe\"`\n",
    "- **Windows** (x86_64): `\"path/to/Tennis_Windows_x86_64/Tennis.exe\"`\n",
    "- **Linux** (x86): `\"path/to/Tennis_Linux/Tennis.x86\"`\n",
    "- **Linux** (x86_64): `\"path/to/Tennis_Linux/Tennis.x86_64\"`\n",
    "- **Linux** (x86, headless): `\"path/to/Tennis_Linux_NoVis/Tennis.x86\"`\n",
    "- **Linux** (x86_64, headless): `\"path/to/Tennis_Linux_NoVis/Tennis.x86_64\"`\n",
    "\n",
    "For instance, if you are using a Mac, then you downloaded `Tennis.app`.  If this file is in the same folder as the notebook, then the line below should appear as follows:\n",
    "```\n",
    "env = UnityEnvironment(file_name=\"Tennis.app\")\n",
    "```"
   ]
  },
  {
   "cell_type": "code",
   "execution_count": 2,
   "metadata": {
    "ExecuteTime": {
     "end_time": "2019-05-22T06:40:47.073927Z",
     "start_time": "2019-05-22T06:40:43.153269Z"
    }
   },
   "outputs": [
    {
     "name": "stderr",
     "output_type": "stream",
     "text": [
      "INFO:unityagents:\n",
      "'Academy' started successfully!\n",
      "Unity Academy name: Academy\n",
      "        Number of Brains: 1\n",
      "        Number of External Brains : 1\n",
      "        Lesson number : 0\n",
      "        Reset Parameters :\n",
      "\t\t\n",
      "Unity brain name: TennisBrain\n",
      "        Number of Visual Observations (per agent): 0\n",
      "        Vector Observation space type: continuous\n",
      "        Vector Observation space size (per agent): 8\n",
      "        Number of stacked Vector Observation: 3\n",
      "        Vector Action space type: continuous\n",
      "        Vector Action space size (per agent): 2\n",
      "        Vector Action descriptions: , \n"
     ]
    }
   ],
   "source": [
    "env = UnityEnvironment(\n",
    "    file_name=\"Tennis_Windows_x86_64/Tennis.exe\",    # <--- File Path to the Environment file\n",
    "    seed=0\n",
    ")\n",
    "\n",
    "# DO NOT EDIT THE LINES BELOW\n",
    "brain_name = env.brain_names[0]\n",
    "env_info = env.reset(train_mode=False)[brain_name]\n",
    "num_agents = len(env_info.agents)\n",
    "action_size = env.brains[brain_name].vector_action_space_size\n",
    "state_size = env_info.vector_observations.shape[1]"
   ]
  },
  {
   "cell_type": "markdown",
   "metadata": {},
   "source": [
    "### [1.2.](#Table-of-Contents) Examine the State and Action Spaces\n",
    "\n",
    "In this environment, two agents control rackets to bounce a ball over a net. If an agent hits the ball over the net, it receives a reward of +0.1.  If an agent lets a ball hit the ground or hits the ball out of bounds, it receives a reward of -0.01.  Thus, the goal of each agent is to keep the ball in play.\n",
    "\n",
    "The observation space consists of 8 variables for each racket and the ball, corresponding to the position and velocity of each object. Two continuous actions are available, corresponding to movement toward (or away from) the net, and jumping. \n",
    "\n",
    "Run the code cell below to print some information about the environment."
   ]
  },
  {
   "cell_type": "code",
   "execution_count": 3,
   "metadata": {
    "ExecuteTime": {
     "end_time": "2019-05-22T04:13:16.739887Z",
     "start_time": "2019-05-22T04:13:16.692503Z"
    }
   },
   "outputs": [
    {
     "name": "stdout",
     "output_type": "stream",
     "text": [
      "Number of agents: 2\n",
      "\n",
      "Size of each action: 2\n",
      "\n",
      "There are 2 agents. Each observes a state with length: 24\n",
      "The state for the first agent looks like:\n",
      " [ 0.          0.          0.          0.          0.          0.\n",
      "  0.          0.          0.          0.          0.          0.\n",
      "  0.          0.          0.          0.         -6.65278625 -1.5\n",
      " -0.          0.          6.83172083  6.         -0.          0.        ]\n",
      "\n",
      "\n",
      "Shapes:\n",
      "rewards 2\n",
      "vector_observations (2, 24)\n",
      "local_done 2\n"
     ]
    }
   ],
   "source": [
    "# number of agents\n",
    "print('Number of agents:', num_agents, end='\\n\\n')\n",
    "\n",
    "# size of each action\n",
    "print('Size of each action:', action_size, end='\\n\\n')\n",
    "\n",
    "# examine the state space\n",
    "states = env_info.vector_observations\n",
    "print('There are {} agents. Each observes a state with length: {}'.format(states.shape[0], state_size))\n",
    "print('The state for the first agent looks like:\\n', states[0], end='\\n\\n')\n",
    "print('\\nShapes:')\n",
    "print(\"rewards\", len(env_info.rewards))\n",
    "print(\"vector_observations\", env_info.vector_observations.shape)\n",
    "print(\"local_done\", len(env_info.local_done))"
   ]
  },
  {
   "cell_type": "markdown",
   "metadata": {},
   "source": [
    "### [1.3.](#Table-of-Contents) Take Random Actions in the Environment\n",
    "---\n",
    "In the next code cell, you will watch the agents' performance when they select actions at random with each time step. You should be able to observe the agents on the window as they perform actions in the environment."
   ]
  },
  {
   "cell_type": "code",
   "execution_count": 4,
   "metadata": {
    "ExecuteTime": {
     "end_time": "2019-05-22T04:13:21.735486Z",
     "start_time": "2019-05-22T04:13:16.743877Z"
    }
   },
   "outputs": [
    {
     "name": "stdout",
     "output_type": "stream",
     "text": [
      "Score (max over agents) from episode 1 (16 time steps): 0.0\n",
      "Score (max over agents) from episode 2 (16 time steps): 0.0\n",
      "Score (max over agents) from episode 3 (14 time steps): 0.0\n"
     ]
    }
   ],
   "source": [
    "for i in range(3):                                         # play game for 5 episodes\n",
    "    env_info = env.reset(train_mode=False)[brain_name]     # reset the environment    \n",
    "    states = env_info.vector_observations                  # get the current state (for each agent)\n",
    "    scores = np.zeros(num_agents)                          # initialize the score (for each agent)\n",
    "    step_count = 0\n",
    "    while True:\n",
    "        step_count += 1\n",
    "        actions = np.random.randn(num_agents, action_size) # select an action (for each agent)\n",
    "        actions = np.clip(actions, -1, 1)                  # all actions between -1 and 1\n",
    "        env_info = env.step(actions)[brain_name]           # send all actions to tne environment\n",
    "        next_states = env_info.vector_observations         # get next state (for each agent)\n",
    "        rewards = env_info.rewards                         # get reward (for each agent)\n",
    "        dones = env_info.local_done                        # see if episode finished\n",
    "        scores += env_info.rewards                         # update the score (for each agent)\n",
    "        states = next_states                               # roll over states to next time step\n",
    "        if np.any(dones):                                  # exit loop if episode finished\n",
    "            break\n",
    "    print('Score (max over agents) from episode {} ({} time steps): {}'.format(i+1, step_count, np.max(scores)))"
   ]
  },
  {
   "cell_type": "markdown",
   "metadata": {
    "ExecuteTime": {
     "end_time": "2019-05-09T17:16:42.467707Z",
     "start_time": "2019-05-09T17:16:42.461148Z"
    }
   },
   "source": [
    "---"
   ]
  },
  {
   "cell_type": "markdown",
   "metadata": {},
   "source": [
    "### [2.](#Table-of-Contents) It's Your Turn!\n",
    "---\n",
    "Here, you can train your own tennis agent to solve the environment!"
   ]
  },
  {
   "cell_type": "markdown",
   "metadata": {},
   "source": [
    "### [2.1.](#Table-of-Contents) Tune Your Hyperparameters!\n",
    "---\n",
    "All necessary hyperparameters and training parameters for the agent are provided below. Try fiddling with the values to get a better performance out of it!"
   ]
  },
  {
   "cell_type": "code",
   "execution_count": 5,
   "metadata": {
    "ExecuteTime": {
     "end_time": "2019-05-22T04:13:21.752440Z",
     "start_time": "2019-05-22T04:13:21.739476Z"
    }
   },
   "outputs": [],
   "source": [
    "hyperparams = {\n",
    "    # Reproducibility\n",
    "    'seed'                : 0,        # random seed for reproducible results\n",
    "    \n",
    "    # Agent basic parameters\n",
    "    'batch_size'          : 1024,     # batch size for each learning step\n",
    "    'buffer_size'         : int(1e6), # up to how many recent experiences to keep\n",
    "    'start_since'         : 1024,     # how many experiences to collect before starting learning\n",
    "    'gamma'               : 0.95,     # discount factor\n",
    "    'update_every'        : 1,        # update step frequency\n",
    "    'n_updates'           : 1,        # number of updates per update step\n",
    "    'tau'                 : 0.2,      # soft-update parameter [0, 1]\n",
    "    \n",
    "    'actor_lr'            : 1e-3,     # learning rate for the actor network\n",
    "    'critic_lr'           : 1e-3,     # learning rate for the critic network\n",
    "    'clip'                : None,     # gradient clipping to prevent gradient spikes\n",
    "    'weight_decay'        : 0,        # weight decay for the *critic* network\n",
    "\n",
    "    'distributional'      : True,     # whether to use distributional learning\n",
    "\n",
    "    # Prioritized Experience Replay Parameters\n",
    "    'priority_eps'        : 1e-3,     # base priority in order to ensure nonzero priorities\n",
    "    'a'                   : 0.,       # priority exponent parameter [0, 1]\n",
    "\n",
    "    # n-step Bootstrap Target parameter\n",
    "    'n_multisteps'        : 1,        # number of steps to bootstrap\n",
    "\n",
    "    # Distributional Learning parameters\n",
    "    'v_min'               : -0.1,     # minimum value for support\n",
    "    'v_max'               : 0.1,      # maximum value for support\n",
    "    'n_atoms'             : 51,       # number of atoms for distribution\n",
    "\n",
    "    # Noisy Layer parameters\n",
    "    'initial_sigma'       : 0.500,    # initial noisy parameter value\n",
    "    'linear_type'         : 'noisy',  # either 'linear' or 'noisy'\n",
    "    'factorized'          : True      # whether to use factorized gaussian noise or not(independent gaussian noise)\n",
    "}\n",
    "\n",
    "### -------------------------------------------------------------------------------------------------------------- ###\n",
    "\n",
    "train_params = {\n",
    "    'n_episodes'           : 250,     # number of total episodes to train\n",
    "    'continue_after_solved': True,    # whether to keep training even after the environment is solved\n",
    "    \n",
    "    # Exploration using gaussian noise\n",
    "    'eps_start'            : 0.,      # initial epsilon value\n",
    "    'eps_min'              : 0.,      # minimum value for epsilon\n",
    "    'eps_decay'            : 0.,      # epsilon decay rate\n",
    "\n",
    "    # Importance-Sampling Weight parameter for Prioritized Experience Replay\n",
    "    'beta_start'           : 0.,      # starting value \n",
    "    'beta_end'             : 0.       # end value\n",
    "}"
   ]
  },
  {
   "cell_type": "markdown",
   "metadata": {},
   "source": [
    "### [2.2.](#Table-of-Contents) Instantiate Your Agent\n",
    "---\n",
    "After tuning your hyperparameters, the agent instance must be created.\n",
    "\n",
    "To do so, simply run the cell below!"
   ]
  },
  {
   "cell_type": "code",
   "execution_count": 6,
   "metadata": {
    "ExecuteTime": {
     "end_time": "2019-05-22T04:13:21.969122Z",
     "start_time": "2019-05-22T04:13:21.756165Z"
    }
   },
   "outputs": [
    {
     "name": "stdout",
     "output_type": "stream",
     "text": [
      "Actor(\n",
      "  (bn0): BatchNorm1d(24, eps=1e-05, momentum=0.1, affine=True, track_running_stats=True)\n",
      "  (fc0): Linear(in_features=24, out_features=256, bias=True)\n",
      "  (bn1): BatchNorm1d(256, eps=1e-05, momentum=0.1, affine=True, track_running_stats=True)\n",
      "  (fc1): Linear(in_features=256, out_features=128, bias=True)\n",
      "  (bn2): BatchNorm1d(128, eps=1e-05, momentum=0.1, affine=True, track_running_stats=True)\n",
      "  (fc2): NoisyLinear(in_features=128, out_features=64, bias=True, initial_sigma=0.5, factorized=True)\n",
      "  (bn3): BatchNorm1d(64, eps=1e-05, momentum=0.1, affine=True, track_running_stats=True)\n",
      "  (fc3): NoisyLinear(in_features=64, out_features=2, bias=True, initial_sigma=0.5, factorized=True)\n",
      "  (hidden_activation): ReLU()\n",
      "  (output_activation): Tanh()\n",
      ")\n",
      "\n",
      "Critic(\n",
      "  (bn): BatchNorm1d(24, eps=1e-05, momentum=0.02, affine=True, track_running_stats=True)\n",
      "  (fcs0): Linear(in_features=24, out_features=256, bias=True)\n",
      "  (fc1): Linear(in_features=258, out_features=128, bias=True)\n",
      "  (fc2): NoisyLinear(in_features=128, out_features=64, bias=True, initial_sigma=0.5, factorized=True)\n",
      "  (fc3): NoisyLinear(in_features=64, out_features=51, bias=True, initial_sigma=0.5, factorized=True)\n",
      "  (hidden_activation): ReLU()\n",
      ")\n"
     ]
    }
   ],
   "source": [
    "agent = Agent(state_size, action_size, num_agents, **hyperparams)\n",
    "\n",
    "print(agent.actor_local)\n",
    "print()\n",
    "print(agent.critic_local)"
   ]
  },
  {
   "cell_type": "markdown",
   "metadata": {},
   "source": [
    "### [2.3.](#Table-of-Contents) Train Your Agent\n",
    "---\n",
    "With your agent and training settings, the next cell will run the training session for your agent!\n",
    "\n",
    "(This may take a while!)"
   ]
  },
  {
   "cell_type": "code",
   "execution_count": 7,
   "metadata": {
    "ExecuteTime": {
     "end_time": "2019-05-22T06:00:48.647873Z",
     "start_time": "2019-05-22T04:13:21.973110Z"
    }
   },
   "outputs": [
    {
     "name": "stdout",
     "output_type": "stream",
     "text": [
      "Episode 10 | Total Steps (all agents): 376 | Current Max Score:  0.000 | Last 100 Average Max Score:  0.019 | Epsilon: 0.0000 | A: 0.0000 | Beta: 0.0000 | Avg Actor Noise Magnitude: 0.0445 +- 0.0023 | Actor Action Std: 0.1057 | Avg Critic Noise Magnitude: 0.0494 +- 0.0083*** timestep 14 ***\n",
      "Episode 20 | Total Steps (all agents): 716 | Current Max Score:  0.000 | Last 100 Average Max Score:  0.015 | Epsilon: 0.0000 | A: 0.0000 | Beta: 0.0000 | Avg Actor Noise Magnitude: 0.0445 +- 0.0023 | Actor Action Std: 0.0677 | Avg Critic Noise Magnitude: 0.0494 +- 0.0083 *** timestep 14 ***\n",
      "Episode 28 | Total Steps (all agents): 1018 | Current Max Score:  0.000 | Last 100 Average Max Score:  0.014 | Epsilon: 0.0000 | A: 0.0000 | Beta: 0.0000 | Avg Actor Noise Magnitude: 0.0445 +- 0.0023 | Actor Action Std: 0.1547 | Avg Critic Noise Magnitude: 0.0494 +- 0.0083 *** timestep 2 ***"
     ]
    },
    {
     "name": "stderr",
     "output_type": "stream",
     "text": [
      "c:\\users\\0107w\\anaconda3\\envs\\drlnd\\lib\\site-packages\\torch\\nn\\_reduction.py:46: UserWarning: size_average and reduce args will be deprecated, please use reduction='none' instead.\n",
      "  warnings.warn(warning.format(ret))\n"
     ]
    },
    {
     "name": "stdout",
     "output_type": "stream",
     "text": [
      "Episode 30 | Total Steps (all agents): 1110 | Current Max Score:  0.000 | Last 100 Average Max Score:  0.016 | Epsilon: 0.0000 | A: 0.0000 | Beta: 0.0000 | Avg Actor Noise Magnitude: 0.0445 +- 0.0046 | Actor Action Std: 0.1010 | Avg Critic Noise Magnitude: 0.0477 +- 0.0087 *** timestep 14 ***\n",
      "Episode 40 | Total Steps (all agents): 1396 | Current Max Score:  0.000 | Last 100 Average Max Score:  0.012 | Epsilon: 0.0000 | A: 0.0000 | Beta: 0.0000 | Avg Actor Noise Magnitude: 0.0442 +- 0.0088 | Actor Action Std: 0.0455 | Avg Critic Noise Magnitude: 0.0443 +- 0.0122 *** timestep 14 ***\n",
      "Episode 50 | Total Steps (all agents): 1680 | Current Max Score:  0.000 | Last 100 Average Max Score:  0.010 | Epsilon: 0.0000 | A: 0.0000 | Beta: 0.0000 | Avg Actor Noise Magnitude: 0.0433 +- 0.0096 | Actor Action Std: 0.0279 | Avg Critic Noise Magnitude: 0.0423 +- 0.0147 *** timestep 14 ***\n",
      "Episode 60 | Total Steps (all agents): 1964 | Current Max Score:  0.000 | Last 100 Average Max Score:  0.008 | Epsilon: 0.0000 | A: 0.0000 | Beta: 0.0000 | Avg Actor Noise Magnitude: 0.0420 +- 0.0107 | Actor Action Std: 0.0548 | Avg Critic Noise Magnitude: 0.0414 +- 0.0159 *** timestep 14 ***\n",
      "Episode 70 | Total Steps (all agents): 2264 | Current Max Score:  0.000 | Last 100 Average Max Score:  0.007 | Epsilon: 0.0000 | A: 0.0000 | Beta: 0.0000 | Avg Actor Noise Magnitude: 0.0398 +- 0.0130 | Actor Action Std: 0.0626 | Avg Critic Noise Magnitude: 0.0396 +- 0.0173 *** timestep 14 ***\n",
      "Episode 80 | Total Steps (all agents): 2568 | Current Max Score:  0.000 | Last 100 Average Max Score:  0.006 | Epsilon: 0.0000 | A: 0.0000 | Beta: 0.0000 | Avg Actor Noise Magnitude: 0.0396 +- 0.0180 | Actor Action Std: 0.0694 | Avg Critic Noise Magnitude: 0.0376 +- 0.0191 *** timestep 14 ***\n",
      "Episode 90 | Total Steps (all agents): 3024 | Current Max Score:  0.000 | Last 100 Average Max Score:  0.008 | Epsilon: 0.0000 | A: 0.0000 | Beta: 0.0000 | Avg Actor Noise Magnitude: 0.0403 +- 0.0235 | Actor Action Std: 0.0376 | Avg Critic Noise Magnitude: 0.0356 +- 0.0202 *** timestep 18 ***\n",
      "Episode 100 | Total Steps (all agents): 3952 | Current Max Score:  0.300 | Last 100 Average Max Score:  0.019 | Epsilon: 0.0000 | A: 0.0000 | Beta: 0.0000 | Avg Actor Noise Magnitude: 0.0414 +- 0.0292 | Actor Action Std: 0.0386 | Avg Critic Noise Magnitude: 0.0309 +- 0.0205*** timestep 110 ***\n",
      "Episode 110 | Total Steps (all agents): 11832 | Current Max Score:  0.600 | Last 100 Average Max Score:  0.119 | Epsilon: 0.0000 | A: 0.0000 | Beta: 0.0000 | Avg Actor Noise Magnitude: 0.0350 +- 0.0291 | Actor Action Std: 0.0373 | Avg Critic Noise Magnitude: 0.0190 +- 0.0177 *** timestep 243 ***\n",
      "Episode 120 | Total Steps (all agents): 13642 | Current Max Score:  0.100 | Last 100 Average Max Score:  0.142 | Epsilon: 0.0000 | A: 0.0000 | Beta: 0.0000 | Avg Actor Noise Magnitude: 0.0348 +- 0.0289 | Actor Action Std: 0.0395 | Avg Critic Noise Magnitude: 0.0187 +- 0.0177 *** timestep 30 ****\n",
      "Episode 130 | Total Steps (all agents): 14370 | Current Max Score:  0.100 | Last 100 Average Max Score:  0.148 | Epsilon: 0.0000 | A: 0.0000 | Beta: 0.0000 | Avg Actor Noise Magnitude: 0.0355 +- 0.0291 | Actor Action Std: 0.0585 | Avg Critic Noise Magnitude: 0.0190 +- 0.0180 *** timestep 52 ***\n",
      "Episode 140 | Total Steps (all agents): 27520 | Current Max Score:  2.700 | Last 100 Average Max Score:  0.320 | Epsilon: 0.0000 | A: 0.0000 | Beta: 0.0000 | Avg Actor Noise Magnitude: 0.0374 +- 0.0314 | Actor Action Std: 0.0610 | Avg Critic Noise Magnitude: 0.0181 +- 0.0187 *** timestep 1001 ***\n",
      "Episode 150 | Total Steps (all agents): 40806 | Current Max Score:  1.400 | Last 100 Average Max Score:  0.495 | Epsilon: 0.0000 | A: 0.0000 | Beta: 0.0000 | Avg Actor Noise Magnitude: 0.0401 +- 0.0342 | Actor Action Std: 0.0737 | Avg Critic Noise Magnitude: 0.0186 +- 0.0199 *** timestep 531 ****\n",
      "Episode 152 | Total Steps (all agents): 41568 | Current Max Score:  0.600 | Last 100 Average Max Score:  0.504 | Epsilon: 0.0000 | A: 0.0000 | Beta: 0.0000 | Avg Actor Noise Magnitude: 0.0403 +- 0.0342 | Actor Action Std: 0.1034 | Avg Critic Noise Magnitude: 0.0188 +- 0.0202 *** timestep 240 ***\n",
      "Environment solved in 152 episodes!\tAverage Score: 0.504\n",
      "Episode 160 | Total Steps (all agents): 50604 | Current Max Score:  2.600 | Last 100 Average Max Score:  0.623 | Epsilon: 0.0000 | A: 0.0000 | Beta: 0.0000 | Avg Actor Noise Magnitude: 0.0420 +- 0.0363 | Actor Action Std: 0.0799 | Avg Critic Noise Magnitude: 0.0208 +- 0.0225 *** timestep 1001 ***\n",
      "Episode 170 | Total Steps (all agents): 66612 | Current Max Score:  2.700 | Last 100 Average Max Score:  0.835 | Epsilon: 0.0000 | A: 0.0000 | Beta: 0.0000 | Avg Actor Noise Magnitude: 0.0443 +- 0.0382 | Actor Action Std: 0.1427 | Avg Critic Noise Magnitude: 0.0224 +- 0.0245 *** timestep 1001 ***\n",
      "Episode 180 | Total Steps (all agents): 76938 | Current Max Score:  1.000 | Last 100 Average Max Score:  0.969 | Epsilon: 0.0000 | A: 0.0000 | Beta: 0.0000 | Avg Actor Noise Magnitude: 0.0459 +- 0.0397 | Actor Action Std: 0.1265 | Avg Critic Noise Magnitude: 0.0234 +- 0.0252 *** timestep 382 ****\n",
      "Episode 190 | Total Steps (all agents): 87692 | Current Max Score:  1.800 | Last 100 Average Max Score:  1.108 | Epsilon: 0.0000 | A: 0.0000 | Beta: 0.0000 | Avg Actor Noise Magnitude: 0.0479 +- 0.0414 | Actor Action Std: 0.1065 | Avg Critic Noise Magnitude: 0.0250 +- 0.0279 *** timestep 679 ****\n",
      "Episode 200 | Total Steps (all agents): 100138 | Current Max Score:  2.300 | Last 100 Average Max Score:  1.260 | Epsilon: 0.0000 | A: 0.0000 | Beta: 0.0000 | Avg Actor Noise Magnitude: 0.0496 +- 0.0431 | Actor Action Std: 0.1465 | Avg Critic Noise Magnitude: 0.0254 +- 0.0290*** timestep 857 ****\n",
      "Episode 210 | Total Steps (all agents): 115648 | Current Max Score:  2.200 | Last 100 Average Max Score:  1.363 | Epsilon: 0.0000 | A: 0.0000 | Beta: 0.0000 | Avg Actor Noise Magnitude: 0.0519 +- 0.0447 | Actor Action Std: 0.1220 | Avg Critic Noise Magnitude: 0.0271 +- 0.0306 *** timestep 831 ****\n",
      "Episode 220 | Total Steps (all agents): 126922 | Current Max Score:  2.600 | Last 100 Average Max Score:  1.486 | Epsilon: 0.0000 | A: 0.0000 | Beta: 0.0000 | Avg Actor Noise Magnitude: 0.0528 +- 0.0459 | Actor Action Std: 0.1015 | Avg Critic Noise Magnitude: 0.0279 +- 0.0312 *** timestep 1001 ***\n",
      "Episode 230 | Total Steps (all agents): 138614 | Current Max Score:  2.600 | Last 100 Average Max Score:  1.631 | Epsilon: 0.0000 | A: 0.0000 | Beta: 0.0000 | Avg Actor Noise Magnitude: 0.0528 +- 0.0461 | Actor Action Std: 0.1451 | Avg Critic Noise Magnitude: 0.0292 +- 0.0327 *** timestep 1001 ***\n",
      "Episode 240 | Total Steps (all agents): 151174 | Current Max Score:  2.200 | Last 100 Average Max Score:  1.626 | Epsilon: 0.0000 | A: 0.0000 | Beta: 0.0000 | Avg Actor Noise Magnitude: 0.0549 +- 0.0465 | Actor Action Std: 0.1259 | Avg Critic Noise Magnitude: 0.0298 +- 0.0337 *** timestep 828 ****\n",
      "Episode 250 | Total Steps (all agents): 160896 | Current Max Score:  2.600 | Last 100 Average Max Score:  1.579 | Epsilon: 0.0000 | A: 0.0000 | Beta: 0.0000 | Avg Actor Noise Magnitude: 0.0564 +- 0.0472 | Actor Action Std: 0.1416 | Avg Critic Noise Magnitude: 0.0299 +- 0.0347 *** timestep 1001 ***\n"
     ]
    }
   ],
   "source": [
    "scores = ddpg(env, agent, **train_params)"
   ]
  },
  {
   "cell_type": "markdown",
   "metadata": {},
   "source": [
    "### [2.4.](#Table-of-Contents) Plot the Training Scores\n",
    "---\n",
    "The code cell below will plot the scores your agent received during its training.\n",
    "\n",
    "This allows you to see your agent's learning performance at a glance!"
   ]
  },
  {
   "cell_type": "code",
   "execution_count": 8,
   "metadata": {
    "ExecuteTime": {
     "end_time": "2019-05-22T06:01:22.984019Z",
     "start_time": "2019-05-22T06:01:22.746009Z"
    }
   },
   "outputs": [
    {
     "data": {
      "image/png": "[encoded data removed]",
      "text/plain": [
       "<Figure size 720x288 with 1 Axes>"
      ]
     },
     "metadata": {},
     "output_type": "display_data"
    }
   ],
   "source": [
    "fig = plt.figure(figsize=(10, 4), facecolor='lightsteelblue')\n",
    "ax = fig.add_subplot(111)\n",
    "ax.grid(True)\n",
    "ax.set_facecolor('slategray')\n",
    "ax.plot(np.arange(len(scores)), scores,\n",
    "        alpha=0.7, linewidth=2, color=\"blue\", label=\"Raw Train Score\")\n",
    "ax.plot(np.arange(len(scores)), np.array([np.mean(scores[max(0,i-100):i]) for i in range(1, len(scores)+1)]),\n",
    "        alpha=0.7, linewidth=2, color=\"orange\", label=\"Mean Score over up to 100 Episodes\")\n",
    "ax.legend()\n",
    "xlim = ax.get_xlim()\n",
    "ax.plot(xlim, (0.5, 0.5), color=\"black\")\n",
    "ax.set_xlim(*xlim)\n",
    "ax.set_ylabel('Max Score')\n",
    "ax.set_xlabel('Episode #');"
   ]
  },
  {
   "cell_type": "markdown",
   "metadata": {},
   "source": [
    "### [2.5.](#Table-of-Contents) Save the Agent\n",
    "---\n",
    "If you are satisfied with your agent, you would want to save the agent, scores, and your hyperparameter settings so that it won't be lost.\n",
    "\n",
    "**_Before running the cell below_**, change the file name parameter `f` to the file name you want."
   ]
  },
  {
   "cell_type": "code",
   "execution_count": 10,
   "metadata": {
    "ExecuteTime": {
     "end_time": "2019-05-22T06:02:24.129223Z",
     "start_time": "2019-05-22T06:02:24.113506Z"
    }
   },
   "outputs": [],
   "source": [
    "torch.save(\n",
    "\n",
    "    f='pretrained.pth',    # <--- Name of the save\n",
    "\n",
    "    obj={'hyperparams': hyperparams, 'train_params': train_params,\n",
    "         'train_scores': scores,\n",
    "         'actor_dict': agent.actor_local.state_dict(),\n",
    "         'critic_dict': agent.critic_local.state_dict()}\n",
    ")"
   ]
  },
  {
   "cell_type": "markdown",
   "metadata": {},
   "source": [
    "---"
   ]
  },
  {
   "cell_type": "markdown",
   "metadata": {},
   "source": [
    "## [3.](#Table-of-Contents) Load & Evaluate Your/Pretrained Agent\n",
    "---\n",
    "Once the training is done and you want to test your agent, or if you want to see how well my agent performs, you can load the model and run it in this section."
   ]
  },
  {
   "cell_type": "markdown",
   "metadata": {},
   "source": [
    "### [3.1.](#Table-of-Contents) Load the Agent\n",
    "---\n",
    "First, you need to load the agent you wish to run, unless the agent is already up and running.\n",
    "\n",
    "**_Before running the next cell_**, change the file name parameter `f` in `torch.load()` to the name of the saved file you want to load."
   ]
  },
  {
   "cell_type": "code",
   "execution_count": 11,
   "metadata": {
    "ExecuteTime": {
     "end_time": "2019-05-22T06:41:33.032743Z",
     "start_time": "2019-05-22T06:41:32.629340Z"
    },
    "scrolled": true
   },
   "outputs": [],
   "source": [
    "saved = torch.load(\n",
    "\n",
    "            f=\"pretrained.pth\",    # <--- Name of the file to be loaded\n",
    "\n",
    "            map_location=device\n",
    "\n",
    "        )\n",
    "\n",
    "agent = Agent(state_size, action_size, num_agents, **saved['hyperparams'])\n",
    "agent.actor_local.load_state_dict(saved['actor_dict'], strict=False)\n",
    "agent.critic_local.load_state_dict(saved['critic_dict'], strict=False);"
   ]
  },
  {
   "cell_type": "markdown",
   "metadata": {},
   "source": [
    "### [3.2.](#Table-of-Contents) Watch the Agent!\n",
    "---\n",
    "Watch the trained agent performing the task!"
   ]
  },
  {
   "cell_type": "code",
   "execution_count": 12,
   "metadata": {
    "ExecuteTime": {
     "end_time": "2019-05-22T06:43:19.208589Z",
     "start_time": "2019-05-22T06:41:37.457571Z"
    }
   },
   "outputs": [
    {
     "name": "stdout",
     "output_type": "stream",
     "text": [
      "Current Max Score at timestep 1001: 2.6000000387430196\n",
      "Final Max Score: 2.600000038743019\n"
     ]
    }
   ],
   "source": [
    "env_info = env.reset(train_mode=False)[brain_name]     # reset the environment    \n",
    "states = env_info.vector_observations                  # get the current state (for each agent)\n",
    "scores = np.zeros(num_agents)                          # initialize the score (for each agent)\n",
    "t = 0                                                  # initialize the time step count\n",
    "while True:\n",
    "    actions = agent.act(states)                        # select an action (for each agent)\n",
    "    env_info = env.step(actions)[brain_name]           # send all actions to tne environment\n",
    "    next_states = env_info.vector_observations         # get next state (for each agent)\n",
    "    rewards = env_info.rewards                         # get reward (for each agent)\n",
    "    dones = env_info.local_done                        # see if episode finished\n",
    "    scores += env_info.rewards                         # update the score (for each agent)\n",
    "    states = next_states                               # roll over states to next time step\n",
    "    t += 1\n",
    "    print(\"\\rCurrent Max Score at timestep {}: {}\".format(t, np.max(scores)), end='')\n",
    "    if np.any(dones):                                  # exit loop if episode finished\n",
    "        break\n",
    "print(\"\\nFinal Max Score: {}\".format(np.max(scores)))"
   ]
  },
  {
   "cell_type": "markdown",
   "metadata": {},
   "source": [
    "### [3.3.](#Table-of-Contents) More Accurate Evaluation\n",
    "---\n",
    "To get a better prediction for the agent's performance, you can run multiple episodes and get the average score.\n",
    "\n",
    "Set `n_episodes` in the code cell below to the number of episodes you want to test for, and run the code!"
   ]
  },
  {
   "cell_type": "code",
   "execution_count": 13,
   "metadata": {
    "ExecuteTime": {
     "end_time": "2019-05-22T06:49:46.890880Z",
     "start_time": "2019-05-22T06:43:19.211562Z"
    }
   },
   "outputs": [
    {
     "name": "stdout",
     "output_type": "stream",
     "text": [
      "Episode 10 | Current Episode Max Score: 0.000 | Previous Episode Max Score: 2.600 | Overall Average Score: 1.377\n",
      "Episode 20 | Current Episode Max Score: 0.700 | Previous Episode Max Score: 0.100 | Overall Average Score: 1.073\n",
      "Episode 30 | Current Episode Max Score: 0.100 | Previous Episode Max Score: 1.200 | Overall Average Score: 1.248\n",
      "Episode 40 | Current Episode Max Score: 2.600 | Previous Episode Max Score: 0.200 | Overall Average Score: 1.258\n",
      "Episode 50 | Current Episode Max Score: 1.100 | Previous Episode Max Score: 0.100 | Overall Average Score: 1.277\n",
      "Episode 60 | Current Episode Max Score: 0.100 | Previous Episode Max Score: 2.700 | Overall Average Score: 1.296\n",
      "Episode 70 | Current Episode Max Score: 0.100 | Previous Episode Max Score: 0.100 | Overall Average Score: 1.288\n",
      "Episode 80 | Current Episode Max Score: 2.700 | Previous Episode Max Score: 2.600 | Overall Average Score: 1.278\n",
      "Episode 90 | Current Episode Max Score: 0.100 | Previous Episode Max Score: 2.200 | Overall Average Score: 1.303\n",
      "Episode 100 | Current Episode Max Score: 2.600 | Previous Episode Max Score: 0.200 | Overall Average Score: 1.237\n",
      "\n",
      "Final Average Score: 1.2507000186480581\n"
     ]
    }
   ],
   "source": [
    "n_episodes = 100    # <--- Number of Episodes to test the agent for\n",
    "\n",
    "\n",
    "\n",
    "max_scores = []\n",
    "report_str_format = \"\\rEpisode {} | Current Episode Max Score: {:.3f} | Previous Episode Max Score: {:.3f} | Overall Average Score: {:.3f}\"\n",
    "for i in range(n_episodes):\n",
    "    env_info = env.reset(train_mode=True)[brain_name]      # reset the environment    \n",
    "    states = env_info.vector_observations                  # get the current state (for each agent)\n",
    "    scores = np.zeros(num_agents)                          # initialize the score (for each agent)\n",
    "    while True:\n",
    "        actions = agent.act(states)                        # select an action (for each agent)\n",
    "        env_info = env.step(actions)[brain_name]           # send all actions to tne environment\n",
    "        next_states = env_info.vector_observations         # get next state (for each agent)\n",
    "        rewards = env_info.rewards                         # get reward (for each agent)\n",
    "        dones = env_info.local_done                        # see if episode finished\n",
    "        scores += env_info.rewards                         # update the score (for each agent)\n",
    "        states = next_states                               # roll over states to next time step\n",
    "        print(report_str_format.format(i+1, np.max(scores), max_scores[-1] if max_scores else 0, np.mean(max_scores) if max_scores else 0), end='')\n",
    "        if np.any(dones):                                  # exit loop if episode finished\n",
    "            break\n",
    "    if (i+1) % 10 == 0:\n",
    "        print()\n",
    "    max_scores.append(np.max(scores))\n",
    "print(\"\\nFinal Average Score: {}\".format(np.mean(max_scores)))"
   ]
  },
  {
   "cell_type": "markdown",
   "metadata": {},
   "source": [
    "---"
   ]
  },
  {
   "cell_type": "markdown",
   "metadata": {},
   "source": [
    "## [4.](#Table-of-Contents) Finishing Up\n",
    "---\n",
    "When you are done, run the cell below to close the environment."
   ]
  },
  {
   "cell_type": "code",
   "execution_count": 14,
   "metadata": {
    "ExecuteTime": {
     "end_time": "2019-05-22T06:49:53.398219Z",
     "start_time": "2019-05-22T06:49:53.391945Z"
    }
   },
   "outputs": [],
   "source": [
    "env.close()"
   ]
  },
  {
   "cell_type": "markdown",
   "metadata": {},
   "source": [
    "---"
   ]
  },
  {
   "cell_type": "markdown",
   "metadata": {},
   "source": [
    "# [#](#Table-of-Contents) Thank you!\n",
    "I hope you found something interesting in here. Happy Learning!"
   ]
  }
 ],
 "metadata": {
  "kernelspec": {
   "display_name": "Python 3",
   "language": "python",
   "name": "python3"
  },
  "language_info": {
   "codemirror_mode": {
    "name": "ipython",
    "version": 3
   },
   "file_extension": ".py",
   "mimetype": "text/x-python",
   "name": "python",
   "nbconvert_exporter": "python",
   "pygments_lexer": "ipython3",
   "version": "3.6.8"
  },
  "toc": {
   "base_numbering": 1,
   "nav_menu": {},
   "number_sections": true,
   "sideBar": true,
   "skip_h1_title": false,
   "title_cell": "Table of Contents",
   "title_sidebar": "Contents",
   "toc_cell": false,
   "toc_position": {},
   "toc_section_display": true,
   "toc_window_display": false
  }
 },
 "nbformat": 4,
 "nbformat_minor": 2
}
